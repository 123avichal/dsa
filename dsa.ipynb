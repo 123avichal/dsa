{
 "cells": [
  {
   "cell_type": "markdown",
   "id": "228bb8f8-7c44-4069-91a9-17ed406745a3",
   "metadata": {},
   "source": [
    "1. Given an array, check if it contains any duplicates or not.\n",
    "arr = [1, 2, 4, 2, 5, 9]\n",
    "Output = True"
   ]
  },
  {
   "cell_type": "code",
   "execution_count": 121,
   "id": "52169aba-80f2-489f-b6cf-b3bee320a4e3",
   "metadata": {},
   "outputs": [
    {
     "name": "stdout",
     "output_type": "stream",
     "text": [
      "Yes\n"
     ]
    }
   ],
   "source": [
    "def checkDuplicatesWithinK(arr, n, k):\n",
    " \n",
    "    myset = []\n",
    " \n",
    "    # Traverse the input array\n",
    "    for i in range(n):\n",
    "     \n",
    "        # If already present n hash, then we \n",
    "        # found a duplicate within k distance\n",
    "        if arr[i] in myset:\n",
    "            return True\n",
    " \n",
    "        # Add this item to hashset\n",
    "        myset.append(arr[i])\n",
    " \n",
    "        # Remove the k+1 distant item\n",
    "        if (i >= k):\n",
    "            myset.remove(arr[i - k])\n",
    "    return False\n",
    " \n",
    "# Driver Code\n",
    "if __name__ == \"__main__\":\n",
    "     \n",
    "    arr = [1, 2, 4, 2, 5, 9]\n",
    "    n = len(arr)\n",
    "    if (checkDuplicatesWithinK(arr, n, 3)):\n",
    "        print(\"Yes\")\n",
    "    else:\n",
    "        print(\"No\")\n",
    " "
   ]
  },
  {
   "cell_type": "markdown",
   "id": "d6c8f429-11e9-48b4-bb2d-436e532d66cb",
   "metadata": {},
   "source": [
    "2. Given an array and an integer k, rotate the array to the right by k steps.\n",
    "arr = [1, 2, 3, 4, 5, 6, 7] k = 3\n",
    "Output = [5, 6, 7, 1, 2, 3, 4]"
   ]
  },
  {
   "cell_type": "code",
   "execution_count": 122,
   "id": "84b3206c-fb46-4887-88ca-049fc9598395",
   "metadata": {},
   "outputs": [
    {
     "data": {
      "text/plain": [
       "[5, 6, 7, 1, 2, 3, 4]"
      ]
     },
     "execution_count": 122,
     "metadata": {},
     "output_type": "execute_result"
    }
   ],
   "source": [
    "k=3\n",
    "arr = [1, 2, 3, 4, 5, 6, 7]\n",
    "arr = (arr[len(arr) - k : len(arr)]+arr[0:len(arr)-k])\n",
    "arr"
   ]
  },
  {
   "cell_type": "markdown",
   "id": "c7e864fc-cbfd-4d21-a78d-1b72117fb66d",
   "metadata": {},
   "source": [
    "4. Given an array of integers, find the maximum element in an array\n",
    "arr = [10, 5, 20, 8, 15]\n",
    "Output = 20"
   ]
  },
  {
   "cell_type": "code",
   "execution_count": 123,
   "id": "1a3436ee-acbd-4dbd-b3c0-f926fb93759a",
   "metadata": {},
   "outputs": [
    {
     "data": {
      "text/plain": [
       "20"
      ]
     },
     "execution_count": 123,
     "metadata": {},
     "output_type": "execute_result"
    }
   ],
   "source": [
    "from functools import reduce\n",
    "arr = [10, 5, 20, 8, 15]\n",
    "reduce(lambda x,y:x if x>y else y,arr)"
   ]
  },
  {
   "cell_type": "markdown",
   "id": "e94aeb97-5f14-4018-bc05-46d691f8c06d",
   "metadata": {},
   "source": [
    "5. Given a sorted array, remove the duplicate element without using any extra data structure.\n",
    "arr = [1, 1, 2, 2, 2, 3, 3, 4, 4, 4, 5, 5]\n",
    "Output = [1, 2, 3, 4, 5]"
   ]
  },
  {
   "cell_type": "code",
   "execution_count": 124,
   "id": "d6ce0caa-e4af-4123-8d29-8e93a134e5ff",
   "metadata": {},
   "outputs": [
    {
     "data": {
      "text/plain": [
       "{1, 2, 3, 4, 5}"
      ]
     },
     "execution_count": 124,
     "metadata": {},
     "output_type": "execute_result"
    }
   ],
   "source": [
    "arr = [1, 1, 2, 2, 2, 3, 3, 4, 4, 4, 5, 5]\n",
    "set(arr)"
   ]
  },
  {
   "cell_type": "markdown",
   "id": "f56b2350-b7cc-4612-a336-1cda4176d1a4",
   "metadata": {},
   "source": [
    "3. Reverse the given array in-place, means without using any extra data structure.\n",
    "arr = [2, 4, 5, 7, 9, 12]\n",
    "Output = [12, 9, 7, 5, 4, 2]"
   ]
  },
  {
   "cell_type": "code",
   "execution_count": 125,
   "id": "c5c6c7cb-b431-40ce-8713-44492d33a465",
   "metadata": {},
   "outputs": [
    {
     "data": {
      "text/plain": [
       "[12, 9, 7, 5, 4, 2]"
      ]
     },
     "execution_count": 125,
     "metadata": {},
     "output_type": "execute_result"
    }
   ],
   "source": [
    "arr = [2, 4, 5, 7, 9, 12]\n",
    "arr[::-1]"
   ]
  },
  {
   "cell_type": "code",
   "execution_count": null,
   "id": "c935989c-f610-4023-9614-4883ac24b4ed",
   "metadata": {},
   "outputs": [],
   "source": []
  },
  {
   "cell_type": "code",
   "execution_count": null,
   "id": "763e5fdb-e1e3-421a-b361-db5679721857",
   "metadata": {},
   "outputs": [],
   "source": []
  }
 ],
 "metadata": {
  "kernelspec": {
   "display_name": "Python 3 (ipykernel)",
   "language": "python",
   "name": "python3"
  },
  "language_info": {
   "codemirror_mode": {
    "name": "ipython",
    "version": 3
   },
   "file_extension": ".py",
   "mimetype": "text/x-python",
   "name": "python",
   "nbconvert_exporter": "python",
   "pygments_lexer": "ipython3",
   "version": "3.10.8"
  }
 },
 "nbformat": 4,
 "nbformat_minor": 5
}
